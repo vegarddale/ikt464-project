{
 "cells": [
  {
   "cell_type": "code",
   "execution_count": 53,
   "id": "2371d8b3-3b8f-43aa-9032-54c514ef242c",
   "metadata": {},
   "outputs": [],
   "source": [
    "import os\n",
    "import shutil\n",
    "import random"
   ]
  },
  {
   "cell_type": "code",
   "execution_count": 54,
   "id": "2b6cfb03-ceb1-4d41-aee4-5a26b82b6f2a",
   "metadata": {},
   "outputs": [],
   "source": [
    "\n",
    "\n",
    "def prepare_data(images_path, labels_path, images_output_path, annotations_output_path, image_prefix=\"\", train_ratio=0.8):\n",
    "    \n",
    "    # Create output directories if not exist\n",
    "    os.makedirs(annotations_output_path, exist_ok=True)\n",
    "    os.makedirs(images_output_path, exist_ok=True)\n",
    "\n",
    "    os.makedirs(os.path.join(annotations_output_path, \"training\"), exist_ok=True)\n",
    "    os.makedirs(os.path.join(annotations_output_path, \"validation\"), exist_ok=True)\n",
    "\n",
    "    os.makedirs(os.path.join(images_output_path, \"training\"), exist_ok=True)\n",
    "    os.makedirs(os.path.join(images_output_path, \"validation\"), exist_ok=True)\n",
    "    \n",
    "    # List all image files in the images_path\n",
    "    image_files = [f for f in os.listdir(images_path) if f.endswith('.png')]\n",
    "    \n",
    "    # Shuffle the list to randomly split the data\n",
    "    random.shuffle(image_files)\n",
    "    \n",
    "    # Calculate the number of images for training\n",
    "    num_train = int(len(image_files) * train_ratio)\n",
    "\n",
    "    # Split the data into training and validation sets\n",
    "    train_images = image_files[:num_train]\n",
    "    val_images = image_files[num_train:]\n",
    "    \n",
    "    # Copy images to the respective folders\n",
    "    for image in train_images:\n",
    "        shutil.copy(os.path.join(images_path, image_prefix + image), os.path.join(images_output_path, 'training', image))\n",
    "    \n",
    "    for image in val_images:\n",
    "        shutil.copy(os.path.join(images_path, image_prefix + image), os.path.join(images_output_path, 'validation', image))\n",
    "\n",
    "    # Copy labels to the respective folders\n",
    "    for image in train_images:\n",
    "        label = image\n",
    "        shutil.copy(os.path.join(labels_path, label), os.path.join(annotations_output_path, 'training', label))\n",
    "    \n",
    "    for image in val_images:\n",
    "        label = image\n",
    "        shutil.copy(os.path.join(labels_path, label), os.path.join(annotations_output_path, 'validation', label))\n"
   ]
  },
  {
   "cell_type": "code",
   "execution_count": 55,
   "id": "fbe7e4f8-112a-4a29-9dcf-19a5306b3c0a",
   "metadata": {},
   "outputs": [],
   "source": [
    "images_path = \"./train_v2/images/\"\n",
    "labels_path = \"./train_v2/labels_png/\"\n",
    "images_output_path = \"./out_train_v2/images\"\n",
    "annotations_output_path = \"./out_train_v2/annotations\"\n",
    "image_prefix = \"\"\n"
   ]
  },
  {
   "cell_type": "code",
   "execution_count": 56,
   "id": "be1ee24f-e6b6-429e-8277-732d7534157d",
   "metadata": {},
   "outputs": [],
   "source": [
    "prepare_data(images_path, labels_path, images_output_path, annotations_output_path, image_prefix)"
   ]
  },
  {
   "cell_type": "code",
   "execution_count": 57,
   "id": "c03447b0-c652-47a0-b5a1-18931e6a06bf",
   "metadata": {},
   "outputs": [
    {
     "name": "stdout",
     "output_type": "stream",
     "text": [
      "292\n"
     ]
    }
   ],
   "source": [
    "images = [f for f in os.listdir(os.path.join(images_output_path, \"training\")) if f.endswith('.png')]\n",
    "print(len(images))"
   ]
  },
  {
   "cell_type": "code",
   "execution_count": 61,
   "id": "8e70019a-60ef-4cfc-a8e6-fe6c26513f37",
   "metadata": {},
   "outputs": [
    {
     "name": "stdout",
     "output_type": "stream",
     "text": [
      "292\n"
     ]
    }
   ],
   "source": [
    "labels = [f for f in os.listdir(os.path.join(annotations_output_path, 'training')) if f.endswith('.png')]\n",
    "print(len(labels))"
   ]
  },
  {
   "cell_type": "code",
   "execution_count": 59,
   "id": "3ddf61c9-7fa4-44f4-b863-e64f26cdabbf",
   "metadata": {},
   "outputs": [
    {
     "name": "stdout",
     "output_type": "stream",
     "text": [
      "74\n"
     ]
    }
   ],
   "source": [
    "images = [f for f in os.listdir(os.path.join(images_output_path, \"validation\")) if f.endswith('.png')]\n",
    "print(len(images))"
   ]
  },
  {
   "cell_type": "code",
   "execution_count": 62,
   "id": "57f76a36-201e-49da-815a-21e87d52f2a7",
   "metadata": {},
   "outputs": [
    {
     "name": "stdout",
     "output_type": "stream",
     "text": [
      "74\n"
     ]
    }
   ],
   "source": [
    "labels = [f for f in os.listdir(os.path.join(annotations_output_path, 'validation')) if f.endswith('.png')]\n",
    "print(len(labels))"
   ]
  },
  {
   "cell_type": "code",
   "execution_count": null,
   "id": "5c4507ff-3e87-4c28-b7e9-4e494d5b3ed9",
   "metadata": {},
   "outputs": [],
   "source": []
  }
 ],
 "metadata": {
  "kernelspec": {
   "display_name": "Python 3 (ipykernel)",
   "language": "python",
   "name": "python3"
  },
  "language_info": {
   "codemirror_mode": {
    "name": "ipython",
    "version": 3
   },
   "file_extension": ".py",
   "mimetype": "text/x-python",
   "name": "python",
   "nbconvert_exporter": "python",
   "pygments_lexer": "ipython3",
   "version": "3.10.12"
  }
 },
 "nbformat": 4,
 "nbformat_minor": 5
}
